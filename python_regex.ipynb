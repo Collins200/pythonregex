{
 "cells": [
  {
   "cell_type": "code",
   "execution_count": 5,
   "id": "9035faa1",
   "metadata": {},
   "outputs": [
    {
     "name": "stdout",
     "output_type": "stream",
     "text": [
      "['<H1>title</H1>']\n"
     ]
    }
   ],
   "source": [
    "import re\n",
    "text = '<H1>title</H1>'\n",
    "greedy = re.findall(r'<.*>', text)\n",
    "print(greedy)"
   ]
  },
  {
   "cell_type": "code",
   "execution_count": 8,
   "id": "2617721a",
   "metadata": {},
   "outputs": [
    {
     "name": "stdout",
     "output_type": "stream",
     "text": [
      "['<H1>', '</H1>']\n"
     ]
    }
   ],
   "source": [
    "text = '<H1>title</H1>'\n",
    "lazy   = re.findall(r'<.*?>', text)\n",
    "print(lazy)"
   ]
  },
  {
   "cell_type": "code",
   "execution_count": 10,
   "id": "bff861f1",
   "metadata": {},
   "outputs": [
    {
     "name": "stdout",
     "output_type": "stream",
     "text": [
      "23\n"
     ]
    }
   ],
   "source": [
    "def read_file(filename):\n",
    "    with open(filename, 'r') as fd:\n",
    "        txt = fd.read()\n",
    "        return txt\n",
    "import re\n",
    "def split_chapters(text):\n",
    "    pattern = r'^CHAPTER\\s[A-Z\\s]+\\.?$'\n",
    "    regex   = re.compile(pattern, re.M | re.IGNORECASE)\n",
    "    return(regex.split(text))\n",
    "\n",
    "chp = split_chapters(read_file('lupin.txt'))\n",
    "print(len(chp))\n"
   ]
  },
  {
   "cell_type": "code",
   "execution_count": 11,
   "id": "f798d2ea",
   "metadata": {},
   "outputs": [
    {
     "name": "stdout",
     "output_type": "stream",
     "text": [
      "['', 'pples ', 're red']\n",
      "['', 'pples ', 're red']\n"
     ]
    }
   ],
   "source": [
    "text = \"apples are red\"\n",
    "print(text.split('a'))\n",
    "print(re.split(r'a', text))"
   ]
  },
  {
   "cell_type": "code",
   "execution_count": 12,
   "id": "d6f76cc3",
   "metadata": {},
   "outputs": [
    {
     "name": "stdout",
     "output_type": "stream",
     "text": [
      "['', 'a', 'pples ', 'a', 're red']\n"
     ]
    }
   ],
   "source": [
    "text = \"apples are red\"\n",
    "print(re.split(r'(a)', text))"
   ]
  },
  {
   "cell_type": "code",
   "execution_count": 13,
   "id": "1fb9c036",
   "metadata": {},
   "outputs": [
    {
     "name": "stdout",
     "output_type": "stream",
     "text": [
      "the pile 4 6\n"
     ]
    }
   ],
   "source": [
    "def cleaner(text):\n",
    "    pattern = r'\\s+'\n",
    "    regex   = re.compile(pattern)\n",
    "    return regex.sub(' ', text)\n",
    "\n",
    "text = read_file('lupin.txt')\n",
    "t1_count = text.count('the pile')\n",
    "t2_count = cleaner(text).count('the pile')\n",
    "print(\"the pile\", t1_count, t2_count)"
   ]
  },
  {
   "cell_type": "code",
   "execution_count": 14,
   "id": "584539d0",
   "metadata": {},
   "outputs": [
    {
     "name": "stdout",
     "output_type": "stream",
     "text": [
      "11\n"
     ]
    }
   ],
   "source": [
    "text = 'I own both app99 and app9'\n",
    "print( text.find('app9') )"
   ]
  },
  {
   "cell_type": "code",
   "execution_count": 15,
   "id": "158fc616",
   "metadata": {},
   "outputs": [
    {
     "name": "stdout",
     "output_type": "stream",
     "text": [
      "['app99', 'app9']\n"
     ]
    }
   ],
   "source": [
    "import re\n",
    "\n",
    "text = 'I own both app99 and app9'\n",
    "regex = re.compile(r'app[0-9]+')\n",
    "print(regex.findall(text))\n"
   ]
  },
  {
   "cell_type": "code",
   "execution_count": 17,
   "id": "b3a4f924",
   "metadata": {},
   "outputs": [
    {
     "name": "stdout",
     "output_type": "stream",
     "text": [
      "11 16\n",
      "21 25\n"
     ]
    }
   ],
   "source": [
    "text = 'I own both app99 and app9'\n",
    "regex = re.compile(r'app[0-9]+')\n",
    "for i in regex.finditer(text):\n",
    "    print(i.start(), i.end())"
   ]
  },
  {
   "cell_type": "code",
   "execution_count": 21,
   "id": "850fbe41",
   "metadata": {},
   "outputs": [
    {
     "name": "stdout",
     "output_type": "stream",
     "text": [
      "11\n"
     ]
    }
   ],
   "source": [
    "text = 'I own both app99 and app9'\n",
    "regex = re.compile(r'app[0-9]+')\n",
    "items = list(regex.finditer(text))\n",
    "print(items[0].start())"
   ]
  },
  {
   "cell_type": "code",
   "execution_count": 22,
   "id": "f8a88585",
   "metadata": {},
   "outputs": [
    {
     "name": "stdout",
     "output_type": "stream",
     "text": [
      "11 16\n"
     ]
    }
   ],
   "source": [
    "text = 'I own both app99 and app9'\n",
    "regex = re.compile(r'app[0-9]+')\n",
    "m = regex.search(text)\n",
    "print(m.start(), m.end())"
   ]
  },
  {
   "cell_type": "code",
   "execution_count": 25,
   "id": "3b25cb0d",
   "metadata": {},
   "outputs": [
    {
     "name": "stdout",
     "output_type": "stream",
     "text": [
      "'\\nthis\\nis a long  \\n\\n\\nsentence.\\n\\n\\n'\n"
     ]
    }
   ],
   "source": [
    "text = \"\"\"\n",
    "this\n",
    "is a long  \n",
    "\n",
    "\n",
    "sentence.\n",
    "\n",
    "\n",
    "\"\"\"\n",
    "\n",
    "print(repr(text))\n"
   ]
  },
  {
   "cell_type": "code",
   "execution_count": 26,
   "id": "53a42ce2",
   "metadata": {},
   "outputs": [
    {
     "name": "stdout",
     "output_type": "stream",
     "text": [
      "10/23/2018:\n",
      "It was the 1st dark and stormy night of the 2nd day when I realized I left my K9 in the back of the car on our way to CMI.  \n",
      "I would give you the complete 411 but given our flight was going to DCA via ORD, I didn't have the time.  Once we get back to class, I can meet you in CS101 and give you the low-down.\n",
      "10/25/2018:\n",
      "Another day another $! \n",
      "But the thing is I want to travel back to 1993 and be there when www was born. And that is my issue.  C3P0 is one of my favorites by the way (not C3PO).\n",
      "10/28/2018:\n",
      "I saw _apples_ _and_ _oranges_! I found a signle apple for $1.25. They were available for $3.00 and $32.95 but not $56.78909. \n",
      "But the thing is I want to travel back to 1993 and be there when www was born. And that is my issue.  C3P0 is one of my favorites by the way (not C3PO). Why does today was much like the entry dated 10/25/2018 ?\n",
      "  I did see the following pattern written on subway:\n",
      "2L\n",
      "L2\n",
      "2LL2\n",
      "2L2\n",
      "L2L\n",
      "2L2L2L\n"
     ]
    }
   ],
   "source": [
    "STORY = read_file('story.txt')\n",
    "print(STORY)"
   ]
  },
  {
   "cell_type": "code",
   "execution_count": 92,
   "id": "ec4732cf",
   "metadata": {},
   "outputs": [
    {
     "name": "stdout",
     "output_type": "stream",
     "text": [
      "['$1.25', '$3.00', '$32.95']\n"
     ]
    }
   ],
   "source": [
    "import re\n",
    "STORY = read_file('story.txt')\n",
    "def question0():\n",
    "#     pattern= ' [\\d] {2} / [\\d } / [\\d] {4} : $'\n",
    "#     re.compile(' [\\\\d] {2} / [\\\\d } / [\\\\d] {4} : $')\n",
    "    pattern = '\\$[\\d]+.[\\d]{2}(?!\\d)'\n",
    "\n",
    "    return re.compile(pattern)\n",
    "\n",
    "regex = question0()\n",
    "\n",
    "items = regex.findall(STORY)\n",
    "print(items)\n"
   ]
  },
  {
   "cell_type": "code",
   "execution_count": 54,
   "id": "2f58e71c",
   "metadata": {},
   "outputs": [
    {
     "name": "stdout",
     "output_type": "stream",
     "text": [
      "\\$[\\d]+.[\\d] {2} (?!\\d)\n"
     ]
    }
   ],
   "source": [
    "# import re\n",
    "STORY = read_file('story.txt')\n",
    "regex=r'\\$[\\d]+.[\\d] {2} (?!\\d)'\n",
    "# regex=re.compile('\\\\$[\\\\d]+.[\\\\d] {2} (?!\\\\d)')\n",
    "# def question0():\n",
    "#     pattern = r'\\$[\\d]+.[\\d]{2}(?!\\d)'\n",
    "#     return re.compile(pattern)\n",
    "\n",
    "# regex = question0()\n",
    "\n",
    "# items = regex.findall(STORY)\n",
    "print(regex)\n",
    "\n",
    "# import re\n",
    "\n",
    "# text = 'I own both app99 and app9' STORY\n",
    "# regex = re.compile(r'app[0-9]+') q0\n",
    "# print(regex.findall(text))"
   ]
  },
  {
   "cell_type": "code",
   "execution_count": 59,
   "id": "796a925f",
   "metadata": {},
   "outputs": [],
   "source": [
    "def question1():\n",
    "    pattern=r'[\\d]{2}/[\\d]/[d]{4}:$'\n",
    "    return re.compile(pattern)\n",
    "\n",
    "\n",
    "regex = question1()\n",
    "\n",
    "d={}\n",
    "items = regex.findall(STORY)\n",
    "for item in items:\n",
    "    if re.match(regex,item):\n",
    "        index=item\n",
    "    else:\n",
    "        d[index]=d(index,\"\")+line\n",
    "for i,v in d.items():\n",
    "    print(i,v)"
   ]
  },
  {
   "cell_type": "code",
   "execution_count": 66,
   "id": "d84c69af",
   "metadata": {},
   "outputs": [
    {
     "name": "stdout",
     "output_type": "stream",
     "text": [
      "10/23/2018:\n",
      " It was the 1st dark and stormy night of the 2nd day when I realized I left my K9 in the back of the car on our way to CMI.  \n",
      "I would give you the complete 411 but given our flight was going to DCA via ORD, I didn't have the time.  Once we get back to class, I can meet you in CS101 and give you the low-down.\n",
      "\n",
      "10/25/2018:\n",
      " Another day another $! \n",
      "But the thing is I want to travel back to 1993 and be there when www was born. And that is my issue.  C3P0 is one of my favorites by the way (not C3PO).\n",
      "\n",
      "10/28/2018:\n",
      " I saw _apples_ _and_ _oranges_! I found a signle apple for $1.25. They were available for $3.00 and $32.95 but not $56.78909. \n",
      "But the thing is I want to travel back to 1993 and be there when www was born. And that is my issue.  C3P0 is one of my favorites by the way (not C3PO). Why does today was much like the entry dated 10/25/2018 ?\n",
      "  I did see the following pattern written on subway:\n",
      "2L\n",
      "L2\n",
      "2LL2\n",
      "2L2\n",
      "L2L\n",
      "2L2L2L\n"
     ]
    }
   ],
   "source": [
    "\n",
    "import re\n",
    "def question1():\n",
    "    pattern=r'[\\d]{2}/[\\d]{2}/[\\d]{4}:$'\n",
    "    d={}\n",
    "\n",
    "    with open('story.txt','r') as f:\n",
    "        aa=f.readlines()\n",
    "        for a in aa:\n",
    "            if re.match(pattern,a):\n",
    "                index=a\n",
    "            else:\n",
    "                d[index]=d.get(index,\"\")+a\n",
    "\n",
    "    for w,z in d.items():\n",
    "        print(w,z)\n",
    "question1()"
   ]
  },
  {
   "cell_type": "code",
   "execution_count": 91,
   "id": "dab3c704",
   "metadata": {},
   "outputs": [
    {
     "name": "stdout",
     "output_type": "stream",
     "text": [
      "[' 1st', ' 2nd', ' K9', ' CS101', ' C3P0', ' C3PO', ' C3P0', ' C3PO']\n"
     ]
    }
   ],
   "source": [
    "STORY = read_file('story.txt')\n",
    "def question2():\n",
    "    pattern = r' (?:[0-9]+[A-Za-z]+|[A-Za-z]+[0-9]+)[A-Za-z0-9]*'\n",
    "    return pattern\n",
    "ab=question2()\n",
    "token=[]\n",
    "c=re.findall(ab,STORY)\n",
    "token.extend(c)\n",
    "print(token)"
   ]
  },
  {
   "cell_type": "code",
   "execution_count": null,
   "id": "0c5091e5",
   "metadata": {},
   "outputs": [],
   "source": [
    "def question2():\n",
    "    pattern = r'(?:[0-9]+[A-Za-z]+ | [A-Za-z]+[0-9]+)[A-Za-z0-9]*'\n",
    "    return pattern\n",
    "ab=question2()\n",
    "token=[]\n",
    "c=re.findall(ab,STORY)\n",
    "token.extend(c)\n",
    "print(token)"
   ]
  }
 ],
 "metadata": {
  "kernelspec": {
   "display_name": "Python 3",
   "language": "python",
   "name": "python3"
  },
  "language_info": {
   "codemirror_mode": {
    "name": "ipython",
    "version": 3
   },
   "file_extension": ".py",
   "mimetype": "text/x-python",
   "name": "python",
   "nbconvert_exporter": "python",
   "pygments_lexer": "ipython3",
   "version": "3.9.7"
  }
 },
 "nbformat": 4,
 "nbformat_minor": 5
}
